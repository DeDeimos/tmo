{
 "cells": [
  {
   "cell_type": "markdown",
   "metadata": {},
   "source": [
    "# Вариант №19"
   ]
  },
  {
   "cell_type": "markdown",
   "metadata": {},
   "source": [
    "### Толкачев Родион Михайлович, РТ5-61б"
   ]
  },
  {
   "cell_type": "code",
   "execution_count": 170,
   "metadata": {},
   "outputs": [],
   "source": [
    "import numpy as np\n",
    "import pandas as pd\n",
    "import seaborn as sns\n",
    "from sklearn.datasets import load_breast_cancer\n",
    "from sklearn.model_selection import train_test_split\n",
    "from sklearn.preprocessing import StandardScaler\n",
    "from sklearn.metrics import accuracy_score, f1_score"
   ]
  },
  {
   "cell_type": "code",
   "execution_count": 171,
   "metadata": {},
   "outputs": [],
   "source": [
    "# загрузка данных и разделение на обучающую и тестовую выборки\n",
    "%matplotlib inline \n",
    "sns.set(style=\"ticks\")\n",
    "data = pd.read_csv('data/investments_VC.csv', sep=\",\", encoding='latin1')\n",
    "data = data.dropna(axis=0, how='any')\n",
    "data.drop('permalink', axis=1, inplace=True)\n",
    "data.drop('name', axis=1, inplace=True)\n",
    "data.drop('homepage_url', axis=1, inplace=True)\n",
    "data.drop('category_list', axis=1, inplace=True)\n",
    "data.drop(' market ', axis=1, inplace=True)\n",
    "data.drop('country_code', axis=1, inplace=True)\n",
    "data.drop('state_code', axis=1, inplace=True)\n",
    "data.drop('region', axis=1, inplace=True)\n",
    "data.drop('city', axis=1, inplace=True)\n",
    "data.drop('founded_at', axis=1, inplace=True)\n",
    "data.drop('founded_month', axis=1, inplace=True)\n",
    "data.drop('founded_quarter', axis=1, inplace=True)\n",
    "data.drop('first_funding_at', axis=1, inplace=True)\n",
    "data.drop('last_funding_at', axis=1, inplace=True)\n",
    "\n",
    "# Удаляем запятые из значений в столбце\n",
    "data[' funding_total_usd '] = data[' funding_total_usd '].str.replace(',', '')\n",
    "# Заменяем '-' на 0\n",
    "data[' funding_total_usd '] = data[' funding_total_usd '].replace(' -   ', '0')\n",
    "\n",
    "\n",
    "# Преобразуем значения в числа\n",
    "data[' funding_total_usd '] = data[' funding_total_usd '].astype(float)\n"
   ]
  },
  {
   "cell_type": "code",
   "execution_count": 172,
   "metadata": {},
   "outputs": [
    {
     "data": {
      "text/plain": [
       " funding_total_usd      float64\n",
       "status                   object\n",
       "funding_rounds          float64\n",
       "founded_year            float64\n",
       "seed                    float64\n",
       "venture                 float64\n",
       "equity_crowdfunding     float64\n",
       "undisclosed             float64\n",
       "convertible_note        float64\n",
       "debt_financing          float64\n",
       "angel                   float64\n",
       "grant                   float64\n",
       "private_equity          float64\n",
       "post_ipo_equity         float64\n",
       "post_ipo_debt           float64\n",
       "secondary_market        float64\n",
       "product_crowdfunding    float64\n",
       "round_A                 float64\n",
       "round_B                 float64\n",
       "round_C                 float64\n",
       "round_D                 float64\n",
       "round_E                 float64\n",
       "round_F                 float64\n",
       "round_G                 float64\n",
       "round_H                 float64\n",
       "dtype: object"
      ]
     },
     "execution_count": 172,
     "metadata": {},
     "output_type": "execute_result"
    }
   ],
   "source": [
    "data.dtypes"
   ]
  },
  {
   "cell_type": "code",
   "execution_count": 173,
   "metadata": {},
   "outputs": [],
   "source": [
    "X = data.drop('status', axis=1)\n",
    "y = data['status']\n",
    "\n",
    "X_train, X_test, y_train, y_test = train_test_split(X, y, test_size=0.3, random_state=42)"
   ]
  },
  {
   "cell_type": "code",
   "execution_count": 174,
   "metadata": {},
   "outputs": [],
   "source": [
    "# Стандартизация данных\n",
    "scaler = StandardScaler()\n",
    "X_train = scaler.fit_transform(X_train)\n",
    "X_test = scaler.transform(X_test)"
   ]
  },
  {
   "cell_type": "code",
   "execution_count": 175,
   "metadata": {},
   "outputs": [
    {
     "name": "stdout",
     "output_type": "stream",
     "text": [
      "Decision Tree - Accuracy: 0.7655677655677655, F1-Score: 0.7619210615803197\n"
     ]
    }
   ],
   "source": [
    "# ДЕРЕВО РЕШЕНИЙ\n",
    "from sklearn.tree import DecisionTreeClassifier\n",
    "\n",
    "# Создание и обучение модели дерева решений\n",
    "tree_model = DecisionTreeClassifier(random_state=42)\n",
    "tree_model.fit(X_train, y_train)\n",
    "\n",
    "# Предсказание и оценка\n",
    "y_pred_tree = tree_model.predict(X_test)\n",
    "accuracy_tree = accuracy_score(y_test, y_pred_tree)\n",
    "f1_tree = f1_score(y_test, y_pred_tree , average='weighted')\n",
    "\n",
    "print(f'Decision Tree - Accuracy: {accuracy_tree}, F1-Score: {f1_tree}')"
   ]
  },
  {
   "cell_type": "code",
   "execution_count": 176,
   "metadata": {},
   "outputs": [
    {
     "name": "stdout",
     "output_type": "stream",
     "text": [
      "Gradient Boosting - Accuracy: 0.8426434676434676, F1-Score: 0.7745384175423953\n"
     ]
    }
   ],
   "source": [
    "# ГРАДИЕНТНЫЙ БУСТИНГ\n",
    "from sklearn.ensemble import GradientBoostingClassifier\n",
    "\n",
    "# Создание и обучение модели градиентного бустинга\n",
    "gb_model = GradientBoostingClassifier(random_state=42)\n",
    "gb_model.fit(X_train, y_train)\n",
    "\n",
    "# Предсказание и оценка\n",
    "y_pred_gb = gb_model.predict(X_test)\n",
    "accuracy_gb = accuracy_score(y_test, y_pred_gb)\n",
    "f1_gb = f1_score(y_test, y_pred_gb, average='weighted')\n",
    "\n",
    "print(f'Gradient Boosting - Accuracy: {accuracy_gb}, F1-Score: {f1_gb}')"
   ]
  },
  {
   "cell_type": "code",
   "execution_count": 177,
   "metadata": {},
   "outputs": [
    {
     "name": "stdout",
     "output_type": "stream",
     "text": [
      "Decision Tree - Accuracy: 0.7655677655677655, F1-Score: 0.7619210615803197\n",
      "Gradient Boosting - Accuracy: 0.8426434676434676, F1-Score: 0.7745384175423953\n"
     ]
    }
   ],
   "source": [
    "# РЕЗУЛЬТАТЫ\n",
    "print(f'Decision Tree - Accuracy: {accuracy_tree}, F1-Score: {f1_tree}')\n",
    "print(f'Gradient Boosting - Accuracy: {accuracy_gb}, F1-Score: {f1_gb}')"
   ]
  },
  {
   "cell_type": "markdown",
   "metadata": {},
   "source": [
    "### <b>Выводы</b>\n",
    "- Модель градиентного бустинга показала более высокие значения Accuracy и F1-Score по сравнению с моделью дерева решений, что указывает на лучшую общую производительность.\n",
    "- Модель дерева решений, хотя и является простой в интерпретации и реализации, может уступать в качестве предсказаний более сложным моделям, таким как градиентный бустинг, особенно на комплексных данных."
   ]
  }
 ],
 "metadata": {
  "kernelspec": {
   "display_name": ".venv",
   "language": "python",
   "name": "python3"
  },
  "language_info": {
   "codemirror_mode": {
    "name": "ipython",
    "version": 3
   },
   "file_extension": ".py",
   "mimetype": "text/x-python",
   "name": "python",
   "nbconvert_exporter": "python",
   "pygments_lexer": "ipython3",
   "version": "3.11.9"
  }
 },
 "nbformat": 4,
 "nbformat_minor": 2
}
